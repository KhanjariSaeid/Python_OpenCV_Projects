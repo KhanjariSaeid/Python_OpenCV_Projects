{
 "cells": [
  {
   "cell_type": "code",
   "execution_count": 1,
   "id": "a4c1983c",
   "metadata": {},
   "outputs": [],
   "source": [
    "#Color transformation using intensity levels\n",
    "import numpy as np\n",
    "import cv2\n",
    "img=cv2.imread('rooster.jpg')\n",
    "img_color=img.copy()\n",
    "\n",
    "#slicing the intensity levels\n",
    "img_color[:,:,0][img[:,:,0]==255]=255\n",
    "img_color[:,:,1][img[:,:,1]==255]=255\n",
    "img_color[:,:,2][img[:,:,2]==255]=255\n",
    "\n",
    "img_color[:,:,0][img[:,:,0]<255]=255\n",
    "img_color[:,:,1][img[:,:,1]<255]=0\n",
    "img_color[:,:,2][img[:,:,2]<255]=0\n",
    "\n",
    "img_color[:,:,0][img[:,:,0]<204]=0\n",
    "img_color[:,:,1][img[:,:,1]<204]=255\n",
    "img_color[:,:,2][img[:,:,2]<204]=255\n",
    "\n",
    "img_color[:,:,0][img[:,:,0]<170]=255\n",
    "img_color[:,:,1][img[:,:,1]<170]=255\n",
    "img_color[:,:,2][img[:,:,2]<170]=0\n",
    "\n",
    "img_color[:,:,0][img[:,:,0]<130]=0\n",
    "img_color[:,:,1][img[:,:,1]<130]=0\n",
    "img_color[:,:,2][img[:,:,2]<130]=255\n",
    "\n",
    "img_color[:,:,0][img[:,:,0]<80]=0\n",
    "img_color[:,:,1][img[:,:,1]<80]=255\n",
    "img_color[:,:,2][img[:,:,2]<80]=0\n",
    "\n",
    "img_color[:,:,0][img[:,:,0]<=40]=0\n",
    "img_color[:,:,1][img[:,:,1]<=40]=0\n",
    "img_color[:,:,2][img[:,:,2]<=40]=0\n",
    "\n",
    "cv2.imshow('original',img)\n",
    "cv2.imshow('multi_level_intensity_slicing',img_color)\n",
    "cv2.waitKey(0)\n",
    "cv2.destroyAllWindows()"
   ]
  },
  {
   "cell_type": "code",
   "execution_count": null,
   "id": "2a13addd",
   "metadata": {},
   "outputs": [],
   "source": [
    "#Color Transformation using sin function\n",
    "\n",
    "import numpy as np\n",
    "import cv2\n",
    "img=cv2.imread('rooster.jpg')\n",
    "img_color=img.copy()\n",
    "w,h,_=img.shape\n",
    "for i in range(w):\n",
    "    for j in range(h):\n",
    "        t=img[i,j,0]\n",
    "        #the formula af sin function is y=a*sin(w*t+q), and w =2*pi/T, here T=204 is the periodicity \n",
    "        R=abs(255*np.sin((2*np.pi/204)*t+1.5))\n",
    "        G=abs(255*np.sin((2*np.pi/204)*t))\n",
    "        B=abs(255*np.sin((2*np.pi/204)*t+0.5))\n",
    "        img_color[i,j,0]=B\n",
    "        img_color[i,j,1]=G\n",
    "        img_color[i,j,2]=R\n",
    "\n",
    "cv2.imshow('original',img)\n",
    "cv2.imshow('color_transfered',img_color)\n",
    "cv2.waitKey(0)\n",
    "cv2.destroyAllWindows()"
   ]
  }
 ],
 "metadata": {
  "kernelspec": {
   "display_name": "Python 3 (ipykernel)",
   "language": "python",
   "name": "python3"
  },
  "language_info": {
   "codemirror_mode": {
    "name": "ipython",
    "version": 3
   },
   "file_extension": ".py",
   "mimetype": "text/x-python",
   "name": "python",
   "nbconvert_exporter": "python",
   "pygments_lexer": "ipython3",
   "version": "3.9.12"
  }
 },
 "nbformat": 4,
 "nbformat_minor": 5
}
